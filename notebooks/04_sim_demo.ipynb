{
 "cells": [
  {
   "cell_type": "markdown",
   "id": "9e70ccc8",
   "metadata": {},
   "source": [
    "# Budget optimiser demo\n"
   ]
  },
  {
   "cell_type": "code",
   "execution_count": 2,
   "id": "526fc6a8",
   "metadata": {},
   "outputs": [
    {
     "name": "stdout",
     "output_type": "stream",
     "text": [
      "added to path: c:\\Users\\zuzia\\OneDrive - Temple University\\Documents\\MS Computational DS\\Summer 2025\\Research\\Project\\cost-utility-calculator\n"
     ]
    }
   ],
   "source": [
    "# add project root so we can `import src.*`\n",
    "import sys, pathlib, os\n",
    "ROOT = pathlib.Path(os.getcwd()).parent        # .. (= cost-utility-calculator)\n",
    "if str(ROOT) not in sys.path:\n",
    "    sys.path.insert(0, str(ROOT))\n",
    "print(\"added to path:\", ROOT)\n"
   ]
  },
  {
   "cell_type": "code",
   "execution_count": 3,
   "id": "d7ff7ea1",
   "metadata": {},
   "outputs": [
    {
     "data": {
      "text/plain": [
       "{'labels': 100, 'gpu': 0, 'accuracy': 0.9300520777305604}"
      ]
     },
     "execution_count": 3,
     "metadata": {},
     "output_type": "execute_result"
    }
   ],
   "source": [
    "import json\n",
    "from src.optimizer import optimize_budget\n",
    "curves = json.load(open(\"../data/curves.json\"))\n",
    "\n",
    "best = optimize_budget(0.10, 3.0, 100, curves[\"Dragut2019\"])\n",
    "best"
   ]
  },
  {
   "cell_type": "code",
   "execution_count": null,
   "id": "10ee965a",
   "metadata": {},
   "outputs": [],
   "source": []
  }
 ],
 "metadata": {
  "kernelspec": {
   "display_name": "cucal",
   "language": "python",
   "name": "python3"
  },
  "language_info": {
   "codemirror_mode": {
    "name": "ipython",
    "version": 3
   },
   "file_extension": ".py",
   "mimetype": "text/x-python",
   "name": "python",
   "nbconvert_exporter": "python",
   "pygments_lexer": "ipython3",
   "version": "3.11.13"
  }
 },
 "nbformat": 4,
 "nbformat_minor": 5
}
