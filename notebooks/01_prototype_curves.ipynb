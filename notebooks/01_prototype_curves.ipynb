{
 "cells": [
  {
   "cell_type": "markdown",
   "metadata": {},
   "source": [
    "# Prototype Curves – Week 1\n",
    "\n",
    "**Goals**\n",
    "1. Load `docs/literature_matrix.csv`.\n",
    "2. Plot F1 vs. annotator minutes for *Dragut et al., 2019*.\n",
    "3. Plot accuracy vs. dollars for *Kang et al., 2023*.\n",
    "4. Illustrate diminishing returns & marginal-gain stop point.\n",
    "\n",
    "_Code cells will be added once I’m on a machine with Jupyter._\n"
   ]
  }
 ],
 "metadata": {
  "kernelspec": {
   "display_name": "Python 3",
   "language": "python",
   "name": "python3"
  },
  "language_info": {
   "name": "python"
  }
 },
 "nbformat": 4,
 "nbformat_minor": 5
}

