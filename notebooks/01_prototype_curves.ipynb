{
 "cells": [
  {
   "cell_type": "markdown",
   "metadata": {},
   "source": [
    "# Prototype Curves – Week 1\n",
    "\n",
    "**Goals**\n",
    "1. Load `docs/literature_matrix.csv`.\n",
    "2. Plot F1 vs. annotator minutes for *Dragut et al., 2019*.\n",
    "3. Plot accuracy vs. dollars for *Kang et al., 2023*.\n",
    "4. Illustrate diminishing returns & marginal-gain stop point.\n",
    "\n",
    "_Code cells will be added once I’m on a machine with Jupyter._\n"
   ]
  },
{
  "cell_type": "code",
  "metadata": {},
  "source": [
    "# === Load CSV ===\n",
    "import pandas as pd\n",
    "df = pd.read_csv('../docs/literature_matrix.csv')\n",
    "df.head()"
  ],
  "execution_count": null,
  "outputs": []
},
{
  "cell_type": "code",
  "metadata": {},
  "source": [
    "# === Dragut curve ===\n",
    "from src.utils import parse_curve\n",
    "import matplotlib.pyplot as plt\n",
    "row = df[df['Paper'].str.contains('Dragut')].iloc[0]\n",
    "x, y = zip(*parse_curve(row['Key Curve Data']))\n",
    "plt.plot(x, y, marker='o')\n",
    "plt.xlabel('Annotator minutes')\n",
    "plt.ylabel('F1')\n",
    "plt.title('Dragut 2019 – Diminishing returns')\n",
    "plt.show()"
  ],
  "execution_count": null,
  "outputs": []
}

 ],
 "metadata": {
  "kernelspec": {
   "display_name": "Python 3",
   "language": "python",
   "name": "python3"
  },
  "language_info": {
   "name": "python"
  }
 },
 "nbformat": 4,
 "nbformat_minor": 5
}

