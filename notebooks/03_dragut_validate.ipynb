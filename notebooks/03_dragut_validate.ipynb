{
 "cells": [
  {
   "cell_type": "markdown",
   "id": "8f8a4b5a",
   "metadata": {},
   "source": [
    "# Dragut 2019 – empirical curve (retail phone regex)\n",
    "\n",
    "Baseline: simple phone-number regex, labels revealed in 5-minute blocks."
   ]
  },
  {
   "cell_type": "code",
   "execution_count": 1,
   "id": "c1635253",
   "metadata": {},
   "outputs": [],
   "source": [
    "# --- Imports and data load ---------------------------------------------------\n",
    "import pandas as pd, pathlib, os, sys, re, json, numpy as np\n",
    "from sklearn.metrics import precision_recall_fscore_support\n",
    "import matplotlib.pyplot as plt\n",
    "\n",
    "ROOT = pathlib.Path(os.getcwd()).parent\n",
    "if str(ROOT) not in sys.path:\n",
    "    sys.path.insert(0, str(ROOT))          # make \"src\" importable\n",
    "\n",
    "RAW = ROOT / \"data\" / \"raw\" / \"dragut_phone.csv\"\n",
    "df  = pd.read_csv(RAW)"
   ]
  },
  {
   "cell_type": "code",
   "execution_count": 2,
   "id": "72ea8306",
   "metadata": {},
   "outputs": [],
   "source": [
    "# 1) Label with the simple phone-number regex\n",
    "phone_pat = re.compile(r\"\\(?\\d{3}\\)?[-\\s]\\d{3}-\\d{4}\")\n",
    "y_true = df[\"Label\"].values\n",
    "y_pred = df[\"String\"].str.contains(phone_pat).astype(int).values"
   ]
  },
  {
   "cell_type": "code",
   "execution_count": 3,
   "id": "13a17f26",
   "metadata": {},
   "outputs": [
    {
     "name": "stdout",
     "output_type": "stream",
     "text": [
      "[(0, 0.0), (5, 0.0), (10, 1.0), (15, 1.0), (20, 1.0), (25, 1.0), (30, 1.0), (35, 1.0), (40, 0.8571428571428571), (45, 0.75), (50, 0.75), (55, 0.75), (60, 0.6), (65, 0.5454545454545454), (70, 0.5454545454545454), (75, 0.5454545454545454), (80, 0.5454545454545454), (85, 0.5454545454545454), (90, 0.5454545454545454), (95, 0.5454545454545454), (100, 0.7058823529411765), (105, 0.7058823529411765), (110, 0.7058823529411765), (115, 0.7058823529411765), (120, 0.7058823529411765), (125, 0.7368421052631579), (130, 0.7368421052631579), (135, 0.7368421052631579), (140, 0.7368421052631579), (145, 0.7368421052631579), (150, 0.7368421052631579), (155, 0.7368421052631579)]\n"
     ]
    }
   ],
   "source": [
    "# 2) Build F1 vs annotation-minutes curve (5-minute granularity)\n",
    "f1_points = []\n",
    "minutes_per_row = 2          # ≈30 rows / hour\n",
    "for m in range(0, 160, 5):\n",
    "    rows = int(m / minutes_per_row)\n",
    "    if rows == 0:\n",
    "        f1 = 0.0\n",
    "    else:\n",
    "        f1 = precision_recall_fscore_support(\n",
    "            y_true[:rows], y_pred[:rows],\n",
    "            average=\"binary\", zero_division=0\n",
    "        )[2]\n",
    "    f1_points.append((m, f1))\n",
    "\n",
    "m_values, f1_values = zip(*f1_points)      #  <-- this is the X list\n",
    "print(list(zip(m_values, f1_values)))"
   ]
  },
  {
   "cell_type": "code",
   "execution_count": 4,
   "id": "d543cb84",
   "metadata": {},
   "outputs": [],
   "source": [
    "# 3) Fit the 2-parameter log curve you already implemented\n",
    "from src.curves import fit_log_curve, log_model   # your helper functions\n",
    "a, b, rmse = fit_log_curve(m_values, f1_values)"
   ]
  },
  {
   "cell_type": "code",
   "execution_count": 5,
   "id": "3cc7b7df",
   "metadata": {},
   "outputs": [
    {
     "name": "stdout",
     "output_type": "stream",
     "text": [
      "Cleaned fit  a=0.046,  b=28660.0,  RMSE=0.092\n"
     ]
    },
    {
     "data": {
      "image/png": "[encoded data removed]",
      "text/plain": [
       "<Figure size 600x400 with 1 Axes>"
      ]
     },
     "metadata": {},
     "output_type": "display_data"
    }
   ],
   "source": [
    "# 4) Plot + save\n",
    "# --- CLEAN: drop points where F1 is unrealistically high ---------------\n",
    "clean = [(m,f1) for m,f1 in f1_points if (f1>0) & (f1<0.9)] # keep rows with 0 < F1 < 0.9\n",
    "m_values, f1_values = map(np.array, zip(*clean))\n",
    "\n",
    "# Fit\n",
    "a, b, rmse = fit_log_curve(m_values, f1_values)\n",
    "print(f\"Cleaned fit  a={a:.3f},  b={b:.1f},  RMSE={rmse:.3f}\")\n",
    "\n",
    "# Plot\n",
    "plt.figure(figsize=(6,4))\n",
    "plt.scatter(m_values, f1_values, label=\"clean data\")\n",
    "m_plot = np.linspace(0, m_values.max(), 200)\n",
    "plt.plot(m_plot, a*np.log(b*m_plot + 1), '--', label=\"log fit\")\n",
    "plt.title(\"Dragut 2019 – phone curve (clean)\")\n",
    "plt.xlabel(\"Annotation minutes\"); plt.ylabel(\"F1\")\n",
    "plt.legend(); plt.grid(True)\n",
    "plt.savefig(\"../docs/figures/dragut_log_fit.png\", dpi=120)\n",
    "plt.show()\n"
   ]
  },
  {
   "cell_type": "code",
   "execution_count": 6,
   "id": "34f2cb18",
   "metadata": {},
   "outputs": [
    {
     "name": "stdout",
     "output_type": "stream",
     "text": [
      "Saved → c:\\Users\\zuzia\\OneDrive - Temple University\\Documents\\MS Computational DS\\Summer 2025\\Research\\Project\\cost-utility-calculator\\data\\curves.json\n"
     ]
    }
   ],
   "source": [
    "# 5) Persist parameters in data/curves.json\n",
    "CURVES = ROOT / \"data\" / \"curves.json\"\n",
    "curves = json.loads(CURVES.read_text())\n",
    "curves[\"Dragut2019_phone\"] = {\"a\": float(a), \"b\": float(b), \"rmse\": float(rmse)}\n",
    "CURVES.write_text(json.dumps(curves, indent=2))\n",
    "print(\"Saved →\", CURVES)\n",
    "pd.DataFrame(clean).to_csv(\"../data/curves_dragut_phone.csv\", index=False)"
   ]
  }
 ],
 "metadata": {
  "kernelspec": {
   "display_name": "cucal",
   "language": "python",
   "name": "python3"
  },
  "language_info": {
   "codemirror_mode": {
    "name": "ipython",
    "version": 3
   },
   "file_extension": ".py",
   "mimetype": "text/x-python",
   "name": "python",
   "nbconvert_exporter": "python",
   "pygments_lexer": "ipython3",
   "version": "3.11.13"
  }
 },
 "nbformat": 4,
 "nbformat_minor": 5
}
