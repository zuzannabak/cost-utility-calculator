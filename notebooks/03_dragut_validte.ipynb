{
 "cells": [
  {
   "cell_type": "markdown",
   "id": "8f8a4b5a",
   "metadata": {},
   "source": [
    "# Dragut 2019 – empirical curve (retail phone regex)\n",
    "\n",
    "Baseline: simple phone-number regex, labels revealed in 5-minute blocks."
   ]
  },
  {
   "cell_type": "code",
   "execution_count": 1,
   "id": "c1635253",
   "metadata": {},
   "outputs": [
    {
     "name": "stdout",
     "output_type": "stream",
     "text": [
      "Rows: 19078\n"
     ]
    },
    {
     "data": {
      "text/html": [
       "<div>\n",
       "<style scoped>\n",
       "    .dataframe tbody tr th:only-of-type {\n",
       "        vertical-align: middle;\n",
       "    }\n",
       "\n",
       "    .dataframe tbody tr th {\n",
       "        vertical-align: top;\n",
       "    }\n",
       "\n",
       "    .dataframe thead th {\n",
       "        text-align: right;\n",
       "    }\n",
       "</style>\n",
       "<table border=\"1\" class=\"dataframe\">\n",
       "  <thead>\n",
       "    <tr style=\"text-align: right;\">\n",
       "      <th></th>\n",
       "      <th>Outlet</th>\n",
       "      <th>String</th>\n",
       "      <th>Label</th>\n",
       "      <th>TagLabel</th>\n",
       "      <th>R.E.1</th>\n",
       "      <th>R.E.2</th>\n",
       "      <th>R.E.3</th>\n",
       "      <th>R.E.4</th>\n",
       "      <th>R.E.5</th>\n",
       "      <th>R.E.6</th>\n",
       "      <th>R.E.7</th>\n",
       "      <th>R.E.8</th>\n",
       "      <th>R.E.tag</th>\n",
       "      <th>R.E.tag.old</th>\n",
       "    </tr>\n",
       "  </thead>\n",
       "  <tbody>\n",
       "    <tr>\n",
       "      <th>0</th>\n",
       "      <td>74150</td>\n",
       "      <td>r SALE Date: 31 Mar 1993 11:38:38</td>\n",
       "      <td>0</td>\n",
       "      <td>oooooooooooooooooooooooooooooooooo</td>\n",
       "      <td>0</td>\n",
       "      <td>0</td>\n",
       "      <td>0</td>\n",
       "      <td>0</td>\n",
       "      <td>0</td>\n",
       "      <td>1</td>\n",
       "      <td>0</td>\n",
       "      <td>0</td>\n",
       "      <td>oooooooooooooooooooooooooooooooooo</td>\n",
       "      <td>ooooooooooooooooooooyyyyoooooooooo</td>\n",
       "    </tr>\n",
       "    <tr>\n",
       "      <th>1</th>\n",
       "      <td>74150</td>\n",
       "      <td>Mar 1993 11:38:38 -0500 Organizat</td>\n",
       "      <td>0</td>\n",
       "      <td>oooooooooooooooooooooooooooooooooo</td>\n",
       "      <td>0</td>\n",
       "      <td>0</td>\n",
       "      <td>0</td>\n",
       "      <td>0</td>\n",
       "      <td>0</td>\n",
       "      <td>1</td>\n",
       "      <td>0</td>\n",
       "      <td>0</td>\n",
       "      <td>oooooooooooooooooooooyyyyyyyyyyyoo</td>\n",
       "      <td>oooooyyyyoooooooooooyyyyoooooooooo</td>\n",
       "    </tr>\n",
       "    <tr>\n",
       "      <th>2</th>\n",
       "      <td>74150</td>\n",
       "      <td>.edu  BOAT For SALE 1989 23' IMPER</td>\n",
       "      <td>0</td>\n",
       "      <td>oooooooooooooooooooooooooooooooooo</td>\n",
       "      <td>0</td>\n",
       "      <td>0</td>\n",
       "      <td>0</td>\n",
       "      <td>0</td>\n",
       "      <td>0</td>\n",
       "      <td>1</td>\n",
       "      <td>0</td>\n",
       "      <td>0</td>\n",
       "      <td>oooooooooooooooooooooooooooooooooo</td>\n",
       "      <td>ooooooooooooooooooooyyyyoooooooooo</td>\n",
       "    </tr>\n",
       "    <tr>\n",
       "      <th>3</th>\n",
       "      <td>74150</td>\n",
       "      <td>ontact Gerald at 1-(419)-756-2950</td>\n",
       "      <td>1</td>\n",
       "      <td>nnnnnnnnnnnnnnnnnyyyyyyyyyyyyyyyy</td>\n",
       "      <td>0</td>\n",
       "      <td>0</td>\n",
       "      <td>0</td>\n",
       "      <td>0</td>\n",
       "      <td>1</td>\n",
       "      <td>0</td>\n",
       "      <td>0</td>\n",
       "      <td>0</td>\n",
       "      <td>oooooooooooooooooyyyyyyyyyyyyyyyy</td>\n",
       "      <td>oooooooooooooooooyyyyyyyyyyyyyyyy</td>\n",
       "    </tr>\n",
       "    <tr>\n",
       "      <th>4</th>\n",
       "      <td>74150</td>\n",
       "      <td>t Gerald at 1-(419)-756-2950</td>\n",
       "      <td>1</td>\n",
       "      <td>nnnnnnnnnnnnyyyyyyyyyyyyyyyynnnnn</td>\n",
       "      <td>0</td>\n",
       "      <td>0</td>\n",
       "      <td>0</td>\n",
       "      <td>0</td>\n",
       "      <td>1</td>\n",
       "      <td>0</td>\n",
       "      <td>0</td>\n",
       "      <td>0</td>\n",
       "      <td>ooooooooooooyyyyyyyyyyyyyyyyooooo</td>\n",
       "      <td>ooooooooooooyyyyyyyyyyyyyyyyooooo</td>\n",
       "    </tr>\n",
       "  </tbody>\n",
       "</table>\n",
       "</div>"
      ],
      "text/plain": [
       "  Outlet                              String  Label  \\\n",
       "0  74150  r SALE Date: 31 Mar 1993 11:38:38       0   \n",
       "1  74150   Mar 1993 11:38:38 -0500 Organizat      0   \n",
       "2  74150  .edu  BOAT For SALE 1989 23' IMPER      0   \n",
       "3  74150   ontact Gerald at 1-(419)-756-2950      1   \n",
       "4  74150   t Gerald at 1-(419)-756-2950           1   \n",
       "\n",
       "                             TagLabel  R.E.1  R.E.2  R.E.3  R.E.4  R.E.5  \\\n",
       "0  oooooooooooooooooooooooooooooooooo      0      0      0      0      0   \n",
       "1  oooooooooooooooooooooooooooooooooo      0      0      0      0      0   \n",
       "2  oooooooooooooooooooooooooooooooooo      0      0      0      0      0   \n",
       "3   nnnnnnnnnnnnnnnnnyyyyyyyyyyyyyyyy      0      0      0      0      1   \n",
       "4   nnnnnnnnnnnnyyyyyyyyyyyyyyyynnnnn      0      0      0      0      1   \n",
       "\n",
       "   R.E.6  R.E.7  R.E.8                             R.E.tag  \\\n",
       "0      1      0      0  oooooooooooooooooooooooooooooooooo   \n",
       "1      1      0      0  oooooooooooooooooooooyyyyyyyyyyyoo   \n",
       "2      1      0      0  oooooooooooooooooooooooooooooooooo   \n",
       "3      0      0      0   oooooooooooooooooyyyyyyyyyyyyyyyy   \n",
       "4      0      0      0   ooooooooooooyyyyyyyyyyyyyyyyooooo   \n",
       "\n",
       "                          R.E.tag.old  \n",
       "0  ooooooooooooooooooooyyyyoooooooooo  \n",
       "1  oooooyyyyoooooooooooyyyyoooooooooo  \n",
       "2  ooooooooooooooooooooyyyyoooooooooo  \n",
       "3   oooooooooooooooooyyyyyyyyyyyyyyyy  \n",
       "4   ooooooooooooyyyyyyyyyyyyyyyyooooo  "
      ]
     },
     "execution_count": 1,
     "metadata": {},
     "output_type": "execute_result"
    }
   ],
   "source": [
    "# --- Imports and data load ---\n",
    "import pandas as pd, pathlib, os, sys, re, json\n",
    "import numpy as np\n",
    "from sklearn.metrics import precision_recall_fscore_support\n",
    "\n",
    "ROOT = pathlib.Path(os.getcwd()).parent          # project root\n",
    "if str(ROOT) not in sys.path: sys.path.insert(0, str(ROOT))\n",
    "\n",
    "RAW = ROOT / \"data\" / \"raw\" / \"dragut_phone.csv\"   # <— your file\n",
    "df = pd.read_csv(RAW)\n",
    "\n",
    "print(\"Rows:\", len(df))\n",
    "df.head()"
   ]
  },
  {
   "cell_type": "code",
   "execution_count": 2,
   "id": "72ea8306",
   "metadata": {},
   "outputs": [],
   "source": [
    "phone_pat = re.compile(r\"\\(?\\d{3}\\)?[-\\s]\\d{3}[-]\\d{4}\")\n",
    "\n",
    "def predict_phone(series: pd.Series) -> np.ndarray:\n",
    "    \"\"\"Return 1 if regex fires in the string, else 0.\"\"\"\n",
    "    return series.str.contains(phone_pat).astype(int).values"
   ]
  },
  {
   "cell_type": "code",
   "execution_count": 3,
   "id": "13a17f26",
   "metadata": {},
   "outputs": [],
   "source": [
    "# --- F1 vs annotation minutes (5-min blocks) ---\n",
    "f1_points = []\n",
    "\n",
    "y_true = df[\"Label\"].values                # 1 = phone, 0 = not\n",
    "y_pred  = predict_phone(df[\"String\"])\n",
    "\n",
    "minutes_per_row = 2      # ← assume annotator labels ~30 rows / hour\n",
    "block = 5                # granularity in plot (minutes)\n",
    "\n",
    "for m in range(0, 160, block):\n",
    "    rows = int(m / minutes_per_row)\n",
    "    if rows == 0:\n",
    "        f1 = 0.0\n",
    "    else:\n",
    "        f1 = precision_recall_fscore_support(\n",
    "            y_true[:rows], y_pred[:rows],\n",
    "            average=\"binary\", zero_division=0)[2]\n",
    "    f1_points.append((m, f1))\n",
    "\n",
    "m_values, f1_values = zip(*f1_points)\n"
   ]
  },
  {
   "cell_type": "code",
   "execution_count": 4,
   "id": "d543cb84",
   "metadata": {},
   "outputs": [
    {
     "data": {
      "image/png": "[encoded data removed]",
      "text/plain": [
       "<Figure size 600x400 with 1 Axes>"
      ]
     },
     "metadata": {},
     "output_type": "display_data"
    },
    {
     "name": "stdout",
     "output_type": "stream",
     "text": [
      "Fitted  a=0.046, b=80419.0618,  RMSE=0.2404\n"
     ]
    }
   ],
   "source": [
    "import matplotlib.pyplot as plt\n",
    "from src.curves import fit_log_curve, log_model      # you wrote these\n",
    "\n",
    "a, b, rmse = fit_log_curve(m_values, f1_values)\n",
    "\n",
    "plt.figure(figsize=(6,4))\n",
    "plt.scatter(m_values, f1_values, label=\"Empirical (Dragut retail)\")\n",
    "m_plot = np.linspace(0, max(m_values), 200)\n",
    "plt.plot(m_plot, log_model(m_plot, a, b), label=\"Fitted log curve\")\n",
    "plt.title(\"Dragut 2019 – entity extraction curve (validation)\")\n",
    "plt.xlabel(\"Annotation minutes\");   plt.ylabel(\"F1\")\n",
    "plt.legend();   plt.grid(True)\n",
    "FIG = ROOT / \"docs\" / \"figures\" / \"dragut_log_fit.png\"\n",
    "plt.savefig(FIG, dpi=120)\n",
    "plt.show()\n",
    "\n",
    "print(f\"Fitted  a={a:.3f}, b={b:.4f},  RMSE={rmse:.4f}\")"
   ]
  },
  {
   "cell_type": "code",
   "execution_count": 5,
   "id": "34f2cb18",
   "metadata": {},
   "outputs": [
    {
     "name": "stdout",
     "output_type": "stream",
     "text": [
      "Saved → c:\\Users\\zuzia\\OneDrive - Temple University\\Documents\\MS Computational DS\\Summer 2025\\Research\\Project\\cost-utility-calculator\\data\\curves.json\n"
     ]
    }
   ],
   "source": [
    "# --- Persist parameters ---\n",
    "CURVES = ROOT / \"data\" / \"curves.json\"\n",
    "curves = json.loads(CURVES.read_text())           # existing Kang etc.\n",
    "curves[\"Dragut2019\"] = {\"a\": a, \"b\": b}\n",
    "CURVES.write_text(json.dumps(curves, indent=2))\n",
    "print(\"Saved →\", CURVES)"
   ]
  }
 ],
 "metadata": {
  "kernelspec": {
   "display_name": "cucal",
   "language": "python",
   "name": "python3"
  },
  "language_info": {
   "codemirror_mode": {
    "name": "ipython",
    "version": 3
   },
   "file_extension": ".py",
   "mimetype": "text/x-python",
   "name": "python",
   "nbconvert_exporter": "python",
   "pygments_lexer": "ipython3",
   "version": "3.11.13"
  }
 },
 "nbformat": 4,
 "nbformat_minor": 5
}
