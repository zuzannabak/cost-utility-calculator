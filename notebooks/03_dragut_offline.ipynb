{
 "cells": [
  {
   "cell_type": "markdown",
   "id": "8f8a4b5a",
   "metadata": {},
   "source": [
    "Offline goal: replot Dragut curve directly from CSV"
   ]
  }
 ],
 "metadata": {
  "language_info": {
   "name": "python"
  }
 },
 "nbformat": 4,
 "nbformat_minor": 5
}
